{
 "cells": [
  {
   "cell_type": "markdown",
   "metadata": {},
   "source": [
    "# HIV Model"
   ]
  },
  {
   "cell_type": "code",
   "execution_count": 1,
   "metadata": {},
   "outputs": [],
   "source": [
    "# Configure Jupyter so figures appear in the notebook\n",
    "%matplotlib inline\n",
    "\n",
    "# Configure Jupyter to display the assigned value after an assignment\n",
    "%config InteractiveShell.ast_node_interactivity='last_expr_or_assign'\n",
    "\n",
    "# import functions from the modsim library\n",
    "from modsim import *"
   ]
  },
  {
   "cell_type": "code",
   "execution_count": 2,
   "metadata": {},
   "outputs": [],
   "source": [
    "def make_state(R0, L0, E0, V0):\n",
    "    \"\"\"Makes a state.\n",
    "    \n",
    "    R: activated, uninfected CD4 lymphocytes\n",
    "    L: latently infected cells\n",
    "    E: actively infected cells\n",
    "    V: free virions\n",
    "    \n",
    "    Returns a state.\"\"\"\n",
    "    \n",
    "    state = State(R=R0,\n",
    "                L=L0,\n",
    "                E=E0,\n",
    "                V=V0)\n",
    "    return state"
   ]
  },
  {
   "cell_type": "code",
   "execution_count": 3,
   "metadata": {},
   "outputs": [],
   "source": [
    "def make_system(gamma, mu, tau, beta, ro, alpha, sigma, delta, pi, t0, tend, dt):\n",
    "    \"\"\"Makes a system.\n",
    "    \n",
    "    Gamma: Rate at whch uninfected CD4 lymphocytes arise\n",
    "    Mu: HIV-independent death rate of uninfected CD4 lymphocytes\n",
    "    Tau: Proportion of cells activated\n",
    "    Beta: Rate of Infection of CD4 lymphocytes per virion\n",
    "    Ro: Proportion of cells becoming latently infected upon infecton\n",
    "    Alpha: Activation rate of latently infected cells\n",
    "    Sigma: Removal rate of cell-free virus\n",
    "    Delta: Removal (death) rate of actively infected CD4\n",
    "    Pi: Rate of production of virons by an actively infected cell\n",
    "    T0: Initial start time\n",
    "    Tend: Ending time\n",
    "    dt: Step time\n",
    "    \n",
    "    Returns a system.\"\"\"\n",
    "        \n",
    "    system = System(g=gamma,\n",
    "                   m=mu,\n",
    "                   t=tau,\n",
    "                   b=beta,\n",
    "                   r=ro,\n",
    "                   a=alpha,\n",
    "                   s=sigma,\n",
    "                   d=delta,\n",
    "                   p=pi,\n",
    "                   t0=t0,\n",
    "                   tend=tend,\n",
    "                   dt=dt)\n",
    "    return system"
   ]
  },
  {
   "cell_type": "code",
   "execution_count": 4,
   "metadata": {},
   "outputs": [],
   "source": [
    "def update_function(system, t, state):\n",
    "     \"\"\"Updates the function with each time step.\n",
    "    \n",
    "    system: system object\n",
    "    t: time\n",
    "    state: state object\n",
    "    \n",
    "    Returns a state.\"\"\"\n",
    "        \n",
    "    unpack(system)\n",
    "    drdt = ((g*t)-(m*state.R)-(b*state.R*state.V))                           #change in R\n",
    "    dldt = ((r*b*state.R*state.V)-(m*state.L)-(a*state.L))                   #change in L\n",
    "    dedt = (((1-r)*b*state.R*state.V) + (a*state.L) - (d*state.E))           #change in E\n",
    "    dvdt = ((p*state.E) - (s*state.V))                                       #change in V\n",
    "    state.R += drdt * dt                                                     #updating R\n",
    "    state.L += dldt * dt                                                     #updating L\n",
    "    state.E += dedt * dt                                                     #updating E\n",
    "    state.V += dvdt * dt                                                     #updating V\n",
    "    \n",
    "    return State(R=state.R, L=state.L, E=state.E, V=state.V)"
   ]
  },
  {
   "cell_type": "code",
   "execution_count": 5,
   "metadata": {},
   "outputs": [],
   "source": [
    "def run_simulation(system, state, update_func):\n",
    "     \"\"\"Runs the simulation by updating the function repeatedly and storing the state returned in a frame.\n",
    "    \n",
    "    Returns a frame.\"\"\"\n",
    "        \n",
    "    unpack(system)\n",
    "    frame = TimeFrame(columns = state.index)\n",
    "    frame.row[0] = state\n",
    "    \n",
    "    for t in linrange(system.t0,system.tend):\n",
    "        frame.row[t+1] = update_func(system, t, frame.row[t])\n",
    "    return frame"
   ]
  },
  {
   "cell_type": "code",
   "execution_count": 8,
   "metadata": {},
   "outputs": [
    {
     "data": {
      "text/plain": [
       "<matplotlib.axes._subplots.AxesSubplot at 0x1c5d8854080>"
      ]
     },
     "execution_count": 8,
     "metadata": {},
     "output_type": "execute_result"
    },
    {
     "data": {
      "image/png": "[encoded data removed]",
      "text/plain": [
       "<Figure size 432x288 with 1 Axes>"
      ]
     },
     "metadata": {
      "needs_background": "light"
     },
     "output_type": "display_data"
    }
   ],
   "source": [
    "state = make_state(1000, 0,0,(4*10**(-7)))                                                       #making a state\n",
    "system = make_system(1.36, 0.00136, 0.2, 0.00027, 0.1, 0.036, 2, 0.33, 100, 0, 250, (1/24))      #making a system\n",
    "results = run_simulation(system, state, update_function)                                         #running the simulation\n",
    "results.plot()                                                                                   #plotting results"
   ]
  },
  {
   "cell_type": "code",
   "execution_count": null,
   "metadata": {},
   "outputs": [],
   "source": []
  }
 ],
 "metadata": {
  "kernelspec": {
   "display_name": "Python 3",
   "language": "python",
   "name": "python3"
  },
  "language_info": {
   "codemirror_mode": {
    "name": "ipython",
    "version": 3
   },
   "file_extension": ".py",
   "mimetype": "text/x-python",
   "name": "python",
   "nbconvert_exporter": "python",
   "pygments_lexer": "ipython3",
   "version": "3.6.6"
  }
 },
 "nbformat": 4,
 "nbformat_minor": 2
}
